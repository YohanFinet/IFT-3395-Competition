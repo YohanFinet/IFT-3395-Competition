{
 "cells": [
  {
   "cell_type": "code",
   "execution_count": 1,
   "metadata": {},
   "outputs": [],
   "source": [
    "import pickle\n",
    "import pandas as pd\n",
    "import re\n",
    "import nltk\n",
    "from nltk.corpus import stopwords\n",
    "from nltk.stem import WordNetLemmatizer\n",
    "from sklearn.feature_extraction.text import TfidfVectorizer\n",
    "from sklearn.model_selection import train_test_split\n",
    "from sklearn.feature_selection import chi2\n",
    "import numpy as np"
   ]
  },
  {
   "cell_type": "code",
   "execution_count": 2,
   "metadata": {},
   "outputs": [],
   "source": [
    "\n",
    "data = pd.read_csv('C:\\\\Users\\\\baril\\\\OneDrive\\\\Desktop\\\\3395Compe\\\\train.csv', sep = ',', header=0).to_numpy()\n",
    "data = pd.DataFrame(data = data[:,1:3], columns = [\"Article\", \"Categorie\"])\n",
    "#data.head()\n"
   ]
  },
  {
   "cell_type": "code",
   "execution_count": 3,
   "metadata": {},
   "outputs": [],
   "source": [
    "\n",
    "data['Article_mod'] = data['Article'].str.replace(\"\\r\", \" \")\n",
    "data['Article_mod'] = data['Article_mod'].str.replace(\"\\n\", \" \")\n",
    "data['Article_mod'] = data['Article_mod'].str.replace(\"    \", \" \")\n",
    "data['Article_mod'] = data['Article_mod'].str.replace('\"', '')\n",
    "data['Article_mod'] = data['Article_mod'].str.lower()\n",
    "punctuation_signs = list(\"?:!.,;\")\n",
    "\n",
    "for punct_sign in punctuation_signs:\n",
    "    data['Article_mod'] = data['Article_mod'].str.replace(punct_sign, '')\n",
    "data['Article_mod'] = data['Article_mod'].str.replace(\"'s\", \"\")\n"
   ]
  },
  {
   "cell_type": "code",
   "execution_count": 4,
   "metadata": {},
   "outputs": [
    {
     "name": "stderr",
     "output_type": "stream",
     "text": [
      "[nltk_data] Downloading package punkt to C:\\Users\\baril/nltk_data...\n",
      "[nltk_data]   Package punkt is already up-to-date!\n",
      "[nltk_data] Downloading package wordnet to C:\\Users\\baril/nltk_data...\n",
      "[nltk_data]   Package wordnet is already up-to-date!\n"
     ]
    }
   ],
   "source": [
    "nltk.download('punkt')\n",
    "nltk.download('wordnet')\n",
    "\n",
    "lemmatizer = WordNetLemmatizer()\n",
    "n_obs = len(data)\n",
    "word_bag_list = [] #tous les sacs du DF\n",
    "\n",
    "for ligne in range(n_obs):\n",
    "    word_bag = [] #sac de mot par article\n",
    "    \n",
    "    texte= data.loc[ligne]['Article_mod']\n",
    "    mots = texte.split(\" \")\n",
    "\n",
    "    for mot in mots:\n",
    "        word_bag.append(lemmatizer.lemmatize(mot, pos=\"v\"))\n",
    "        \n",
    "    text_split = \" \".join(word_bag)\n",
    "    \n",
    "    word_bag_list.append(text_split)\n",
    "\n",
    "data['Article_mod'] = word_bag_list"
   ]
  },
  {
   "cell_type": "code",
   "execution_count": 5,
   "metadata": {},
   "outputs": [
    {
     "name": "stderr",
     "output_type": "stream",
     "text": [
      "[nltk_data] Downloading package stopwords to\n",
      "[nltk_data]     C:\\Users\\baril/nltk_data...\n",
      "[nltk_data]   Package stopwords is already up-to-date!\n"
     ]
    }
   ],
   "source": [
    "nltk.download('stopwords')\n",
    "\n",
    "no_word = list(stopwords.words('english'))\n",
    "\n",
    "for mot in no_word:\n",
    "    reg = r\"\\b\" + mot + r\"\\b\"\n",
    "    data['Article_mod'] = data['Article_mod'].str.replace(reg, '')"
   ]
  },
  {
   "cell_type": "code",
   "execution_count": 6,
   "metadata": {},
   "outputs": [],
   "source": [
    "list_columns = [\"Categorie\", \"Article\", \"Article_mod\"]\n",
    "data = data[list_columns]\n",
    "np.unique(data.Categorie)\n",
    "categorie_codes = {\n",
    "    'astro-ph': 0,\n",
    "    'astro-ph.CO': 1,\n",
    "    'astro-ph.GA': 2,\n",
    "    'astro-ph.SR': 3,\n",
    "    'cond-mat.mes-hall': 4,\n",
    "    'cond-mat.mtrl-sci': 5,\n",
    "    'cs.LG': 6,\n",
    "    'gr-qc': 7,\n",
    "    'hep-ph' : 8,\n",
    "    'hep-th' : 9,\n",
    "    'math.AP' : 10,\n",
    "    'math.CO' : 11,\n",
    "    'physics.optics' : 12,\n",
    "    'quant-ph' : 13,\n",
    "    'stat.ML' : 14\n",
    "}\n",
    "data['Categorie_Codes'] = data['Categorie']\n",
    "data = data.replace({'Categorie_Codes':categorie_codes})\n",
    "#data.head()"
   ]
  },
  {
   "cell_type": "code",
   "execution_count": 15,
   "metadata": {},
   "outputs": [],
   "source": [
    "train_x, test_x, train_y, test_y = train_test_split(data['Article_mod'], \n",
    "                                                   data['Categorie_Codes'],\n",
    "                                                   test_size=0.2,\n",
    "                                                   random_state=11)  \n",
    "\n",
    "test_x_ast = test_x\n",
    "test_y_ast = test_y\n",
    "train_x_ast = train_x\n",
    "train_y_ast = train_y\n",
    "\n",
    "#TFIDF\n",
    "ngram_range = (1,2)\n",
    "min_df = 10\n",
    "max_df = 1.\n",
    "max_features = 3000\n",
    "\n",
    "tfidf = TfidfVectorizer(encoding='utf-8',\n",
    "                        ngram_range=(1,2),\n",
    "                        stop_words=None,\n",
    "                        lowercase=False,\n",
    "                        max_df=max_df,\n",
    "                        min_df=min_df,\n",
    "                        max_features=max_features, ##à jouer avec\n",
    "                        norm='l2',\n",
    "                        sublinear_tf=True)\n",
    "                        \n",
    "train_x = tfidf.fit_transform(train_x).toarray()\n",
    "test_x = tfidf.transform(test_x).toarray()"
   ]
  },
  {
   "cell_type": "code",
   "execution_count": 16,
   "metadata": {},
   "outputs": [
    {
     "name": "stdout",
     "output_type": "stream",
     "text": [
      "SVM Accuracy Score (Validation) ->  80.86666666666666\n",
      "SVM Accuracy Score (Train) ->  98.83333333333333\n"
     ]
    }
   ],
   "source": [
    "from sklearn import svm\n",
    "from sklearn.metrics import accuracy_score\n",
    "np.random.seed(42)\n",
    "\n",
    "SVM = svm.SVC(kernel='rbf')\n",
    "SVM.fit(train_x,train_y)\n",
    "\n",
    "predictions_SVM = SVM.predict(test_x)\n",
    "   \n",
    "print(\"SVM Accuracy Score (Validation) -> \",accuracy_score(predictions_SVM, test_y)*100)\n",
    "predictions_SVM2 = SVM.predict(train_x)\n",
    "print(\"SVM Accuracy Score (Train) -> \",accuracy_score(predictions_SVM2, train_y)*100)\n",
    "\n"
   ]
  },
  {
   "cell_type": "code",
   "execution_count": 17,
   "metadata": {},
   "outputs": [],
   "source": [
    "#TFIDF\n",
    "ngram_range = (1,1)\n",
    "min_df = 1\n",
    "max_df = 125\n",
    "max_features = 10000\n",
    "\n",
    "tfidf = TfidfVectorizer(encoding='utf-8',\n",
    "                        ngram_range=ngram_range,\n",
    "                        stop_words=None,\n",
    "                        lowercase=False,\n",
    "                        max_df=max_df,\n",
    "                        min_df=min_df,\n",
    "                        max_features=max_features, ##à jouer avec\n",
    "                        norm='l2',\n",
    "                        sublinear_tf=True)\n",
    "train_x_ast = tfidf.fit_transform(train_x_ast).toarray()\n",
    "test_x = tfidf.transform(test_x_ast).toarray()\n"
   ]
  },
  {
   "cell_type": "code",
   "execution_count": null,
   "metadata": {},
   "outputs": [],
   "source": [
    "SVMAstro = svm.SVC(kernel='rbf')\n",
    "SVMAstro.fit(train_x_ast, train_y_ast)\n",
    "test_x_ast = tfidf.transform(test_x_ast).toarray()\n",
    "pred = SVMAstro.predict(test_x_ast)\n",
    "print(\"SVM Accuracy Score (Validation) -> \",accuracy_score(pred, test_y_ast)*100)\n"
   ]
  },
  {
   "cell_type": "code",
   "execution_count": null,
   "metadata": {},
   "outputs": [],
   "source": [
    "len(predictions_SVM)\n"
   ]
  },
  {
   "cell_type": "code",
   "execution_count": null,
   "metadata": {},
   "outputs": [],
   "source": [
    "len(pred)"
   ]
  },
  {
   "cell_type": "code",
   "execution_count": null,
   "metadata": {},
   "outputs": [],
   "source": [
    "for i in range(len(predictions_SVM)):\n",
    "    if predictions_SVM[i] <3:\n",
    "               predictions_SVM[i] = pred[i]\n",
    "\n",
    "print(\"SVM Accuracy Score (Validation) -> \",accuracy_score(predictions_SVM, test_y)*100)"
   ]
  },
  {
   "cell_type": "code",
   "execution_count": null,
   "metadata": {},
   "outputs": [],
   "source": [
    "from sklearn.metrics import classification_report, confusion_matrix, accuracy_score\n",
    "import matplotlib.pyplot as plt\n",
    "import seaborn as sns\n",
    "aux_df = data[['Categorie', 'Categorie_Codes']].drop_duplicates().sort_values('Categorie_Codes')\n",
    "conf_matrix = confusion_matrix(test_y, predictions_SVM)\n",
    "plt.figure(figsize=(12.8,6))\n",
    "sns.heatmap(conf_matrix, \n",
    "            annot=True,\n",
    "            xticklabels=aux_df['Categorie'].values, \n",
    "            yticklabels=aux_df['Categorie'].values,\n",
    "            cmap=\"Blues\")\n",
    "plt.ylabel('Predicted')\n",
    "plt.xlabel('Actual')\n",
    "plt.title('Confusion matrix')\n",
    "plt.show()"
   ]
  }
 ],
 "metadata": {
  "kernelspec": {
   "display_name": "Python 3",
   "language": "python",
   "name": "python3"
  },
  "language_info": {
   "codemirror_mode": {
    "name": "ipython",
    "version": 3
   },
   "file_extension": ".py",
   "mimetype": "text/x-python",
   "name": "python",
   "nbconvert_exporter": "python",
   "pygments_lexer": "ipython3",
   "version": "3.7.9"
  }
 },
 "nbformat": 4,
 "nbformat_minor": 4
}
