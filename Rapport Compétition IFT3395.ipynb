{
 "cells": [
  {
   "cell_type": "markdown",
   "metadata": {},
   "source": [
    "Classification d'articles ArXiv\n",
    "Équipe Yassine + JF + Yohan !\n",
    "Yassine Kassis : KASY20109609\n",
    "Yohan Finet : FINY05099600\n",
    "Jean-François G.Baril :  GIRJ08028200"
   ]
  },
  {
   "cell_type": "markdown",
   "metadata": {},
   "source": [
    "# Table des matières\n",
    "* [Section 1 : Introduction] (#section1)\n",
    "* [Section 2 : Construction de traits caractéritiques](#section2)\n",
    "* [Section 3 : Algorithmes](#section3)\n",
    "* [Section 4 : Méthodologie](#section4)  \n",
    "* [Section 5 : Résultats](#section5)\n",
    "    * [Section 5.1 : Bayes Naïf] (#section5_1)\n",
    "    * [Section 5.2 : Autre] (#section5_2)\n",
    "* [Section 6 : Discussion](#section_6)\n",
    "* [Section 7 : Liste des contributions](#section_7)\n",
    "* [Section 8 : Références](#section_8)"
   ]
  },
  {
   "cell_type": "markdown",
   "metadata": {},
   "source": [
    "## Section 1 : Introduction<a class=\"anchor\"id=\"section1\"></a> \n",
    "Ce projet consiste a créer un classifieur de texte à partir du modèle de Bayes naïf ainsi qu'avec un modèle de notre choix parmi une courte liste de suggestions.  Nous avons décidé d'implémenter la méthode de XXXXXXXX.  Nos algorithmes devront être capable de lasser des messages textes parmi une liste de 15 sujets différents qui seront nos quinze catégories.  L'entraînement sera fait sur un échantillon de 500 messages par catégorise pour un total de 7500 messages. Et finalement les tests seront effectués sur un ensemble de 1000 messages (AU TOTAL OU PAR CATÉGORIE ? PAS MAL SUR QUE C'EST AU TOTAL MAIS ON SAIT JAMAIS). Jusqu'à maintenant notre approche m'est complètement inconnue mais j'imagine que ce sera facile de voir ça quand github sera plein ! IDEM pour les résultats."
   ]
  },
  {
   "cell_type": "markdown",
   "metadata": {},
   "source": [
    "## Section 2 : Construction de traits caractéristiques<a class=\"anchor\"id=\"section2\"></a> \n",
    "Comme mentionné précedemment, l'ensemble des messages est tout d'abord séparé en groupe d'entraînement et de test.  Pour ce faire, nous avons aléatoirement choisi un 500 messages dans chacune des catégories afin de créer un jeu de données d'entraînement et nous avons réservés les 1000 (????) messages restants pour le jeu de test.\n",
    "KESSE QU'ON A FAIT ENSUITE ?  Il faut savoir comment on calcule les occurance de chaque mot dans chacun des sujets afin d'avoir des proportions., etc\n"
   ]
  },
  {
   "cell_type": "markdown",
   "metadata": {},
   "source": [
    "## Section 3 :Algorithmes<a class=\"anchor\"id=\"section3\"></a> "
   ]
  },
  {
   "cell_type": "markdown",
   "metadata": {},
   "source": [
    "## Section 4 : Méthodologie<a class=\"anchor\"id=\"section4\"></a> "
   ]
  },
  {
   "cell_type": "markdown",
   "metadata": {},
   "source": [
    "## Section 5 : Résultats<a class=\"anchor\"id=\"section5\"></a> "
   ]
  },
  {
   "cell_type": "markdown",
   "metadata": {},
   "source": [
    "### Section 5.1 : Classifieur de Bayes naïf<a class=\"anchor\"id=\"section5_1\"></a> "
   ]
  },
  {
   "cell_type": "markdown",
   "metadata": {},
   "source": [
    "### Section 5.2 : Classifieur d'une autre façon<a class=\"anchor\"id=\"section5_2\"></a> "
   ]
  },
  {
   "cell_type": "markdown",
   "metadata": {},
   "source": [
    "## Section 6 : Discussion<a class=\"anchor\"id=\"section6\"></a> "
   ]
  },
  {
   "cell_type": "markdown",
   "metadata": {},
   "source": [
    "## Section 7 : Liste des contributions<a class=\"anchor\"id=\"section7\"></a> \n",
    "Bien que chacun des membres de cette équipe ait contribué en partie à toutes les étapes de ce projet, surtout dans la définition du problème et dans la discussion des solutions à développer.  Des efforts particuliers ont été déployés par les membres suivants dans les tâches indiquées:\n",
    "-Yassine Kassis, a travaillé particulièrement sur le développement de l'algorithme de classification de XXXXX\n",
    "-Yohan Finet a été particulièrement impliqué dans le développement du classifieur de Bayes naïf\n",
    "-Jean-François Baril a quand à lui travaillé sur la présentation des résultats et la rédaction du rapport."
   ]
  },
  {
   "cell_type": "markdown",
   "metadata": {},
   "source": [
    "## Section 8 : Références<a class=\"anchor\"id=\"section8\"></a> "
   ]
  }
 ],
 "metadata": {
  "kernelspec": {
   "display_name": "Python 3",
   "language": "python",
   "name": "python3"
  },
  "language_info": {
   "codemirror_mode": {
    "name": "ipython",
    "version": 3
   },
   "file_extension": ".py",
   "mimetype": "text/x-python",
   "name": "python",
   "nbconvert_exporter": "python",
   "pygments_lexer": "ipython3",
   "version": "3.7.6"
  }
 },
 "nbformat": 4,
 "nbformat_minor": 4
}
