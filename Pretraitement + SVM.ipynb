{
 "cells": [
  {
   "cell_type": "code",
   "execution_count": 13,
   "metadata": {},
   "outputs": [],
   "source": [
    "import pickle\n",
    "import pandas as pd\n",
    "import re\n",
    "import nltk\n",
    "from nltk.corpus import stopwords\n",
    "from nltk.stem import WordNetLemmatizer\n",
    "from sklearn.feature_extraction.text import TfidfVectorizer\n",
    "from sklearn.model_selection import train_test_split\n",
    "from sklearn.feature_selection import chi2\n",
    "import numpy as np"
   ]
  },
  {
   "cell_type": "code",
   "execution_count": 14,
   "metadata": {},
   "outputs": [
    {
     "data": {
      "text/html": [
       "<div>\n",
       "<style scoped>\n",
       "    .dataframe tbody tr th:only-of-type {\n",
       "        vertical-align: middle;\n",
       "    }\n",
       "\n",
       "    .dataframe tbody tr th {\n",
       "        vertical-align: top;\n",
       "    }\n",
       "\n",
       "    .dataframe thead th {\n",
       "        text-align: right;\n",
       "    }\n",
       "</style>\n",
       "<table border=\"1\" class=\"dataframe\">\n",
       "  <thead>\n",
       "    <tr style=\"text-align: right;\">\n",
       "      <th></th>\n",
       "      <th>Article</th>\n",
       "      <th>Categorie</th>\n",
       "    </tr>\n",
       "  </thead>\n",
       "  <tbody>\n",
       "    <tr>\n",
       "      <th>0</th>\n",
       "      <td>The energy released in a solar flare is part...</td>\n",
       "      <td>astro-ph</td>\n",
       "    </tr>\n",
       "    <tr>\n",
       "      <th>1</th>\n",
       "      <td>In light of current atmospheric neutrino osc...</td>\n",
       "      <td>hep-ph</td>\n",
       "    </tr>\n",
       "    <tr>\n",
       "      <th>2</th>\n",
       "      <td>We consider the following basic learning tas...</td>\n",
       "      <td>cs.LG</td>\n",
       "    </tr>\n",
       "    <tr>\n",
       "      <th>3</th>\n",
       "      <td>In this paper, we characterise the family of...</td>\n",
       "      <td>math.CO</td>\n",
       "    </tr>\n",
       "    <tr>\n",
       "      <th>4</th>\n",
       "      <td>The control of condensed matter systems out ...</td>\n",
       "      <td>cond-mat.mes-hall</td>\n",
       "    </tr>\n",
       "  </tbody>\n",
       "</table>\n",
       "</div>"
      ],
      "text/plain": [
       "                                             Article          Categorie\n",
       "0    The energy released in a solar flare is part...           astro-ph\n",
       "1    In light of current atmospheric neutrino osc...             hep-ph\n",
       "2    We consider the following basic learning tas...              cs.LG\n",
       "3    In this paper, we characterise the family of...            math.CO\n",
       "4    The control of condensed matter systems out ...  cond-mat.mes-hall"
      ]
     },
     "execution_count": 14,
     "metadata": {},
     "output_type": "execute_result"
    }
   ],
   "source": [
    "\n",
    "data = pd.read_csv('C:\\\\Users\\\\baril\\\\OneDrive\\\\Desktop\\\\3395Compe\\\\train.csv', sep = ',', header=0).to_numpy()\n",
    "data = pd.DataFrame(data = data[:,1:3], columns = [\"Article\", \"Categorie\"])\n",
    "data.head()\n"
   ]
  },
  {
   "cell_type": "code",
   "execution_count": 15,
   "metadata": {},
   "outputs": [],
   "source": [
    "\n",
    "data['Article_mod'] = data['Article'].str.replace(\"\\r\", \" \")\n",
    "data['Article_mod'] = data['Article_mod'].str.replace(\"\\n\", \" \")\n",
    "data['Article_mod'] = data['Article_mod'].str.replace(\"    \", \" \")\n",
    "data['Article_mod'] = data['Article_mod'].str.replace('\"', '')\n",
    "data['Article_mod'] = data['Article_mod'].str.lower()\n",
    "punctuation_signs = list(\"?:!.,;\")\n",
    "\n",
    "for punct_sign in punctuation_signs:\n",
    "    data['Article_mod'] = data['Article_mod'].str.replace(punct_sign, '')\n",
    "data['Article_mod'] = data['Article_mod'].str.replace(\"'s\", \"\")\n"
   ]
  },
  {
   "cell_type": "code",
   "execution_count": 16,
   "metadata": {},
   "outputs": [
    {
     "name": "stderr",
     "output_type": "stream",
     "text": [
      "[nltk_data] Downloading package punkt to C:\\Users\\baril/nltk_data...\n",
      "[nltk_data]   Package punkt is already up-to-date!\n",
      "[nltk_data] Downloading package wordnet to C:\\Users\\baril/nltk_data...\n",
      "[nltk_data]   Package wordnet is already up-to-date!\n"
     ]
    }
   ],
   "source": [
    "nltk.download('punkt')\n",
    "nltk.download('wordnet')\n",
    "\n",
    "lemmatizer = WordNetLemmatizer()\n",
    "n_obs = len(data)\n",
    "word_bag_list = [] #tous les sacs du DF\n",
    "\n",
    "for ligne in range(0, n_obs):\n",
    "    word_bag = [] #sac de mot par article\n",
    "    \n",
    "    texte= data.loc[ligne]['Article_mod']\n",
    "    mots = texte.split(\" \")\n",
    "\n",
    "    for mot in mots:\n",
    "        word_bag.append(lemmatizer.lemmatize(mot, pos=\"v\"))\n",
    "        \n",
    "    text_split = \" \".join(word_bag)\n",
    "    \n",
    "    word_bag_list.append(text_split)\n",
    "\n",
    "data['Article_mod'] = word_bag_list"
   ]
  },
  {
   "cell_type": "code",
   "execution_count": 17,
   "metadata": {},
   "outputs": [
    {
     "name": "stderr",
     "output_type": "stream",
     "text": [
      "[nltk_data] Downloading package stopwords to\n",
      "[nltk_data]     C:\\Users\\baril/nltk_data...\n",
      "[nltk_data]   Package stopwords is already up-to-date!\n"
     ]
    }
   ],
   "source": [
    "nltk.download('stopwords')\n",
    "\n",
    "no_word = list(stopwords.words('english'))\n",
    "\n",
    "for mot in no_word:\n",
    "    reg = r\"\\b\" + mot + r\"\\b\"\n",
    "    data['Article_mod'] = data['Article_mod'].str.replace(reg, '')"
   ]
  },
  {
   "cell_type": "code",
   "execution_count": 18,
   "metadata": {},
   "outputs": [
    {
     "data": {
      "text/html": [
       "<div>\n",
       "<style scoped>\n",
       "    .dataframe tbody tr th:only-of-type {\n",
       "        vertical-align: middle;\n",
       "    }\n",
       "\n",
       "    .dataframe tbody tr th {\n",
       "        vertical-align: top;\n",
       "    }\n",
       "\n",
       "    .dataframe thead th {\n",
       "        text-align: right;\n",
       "    }\n",
       "</style>\n",
       "<table border=\"1\" class=\"dataframe\">\n",
       "  <thead>\n",
       "    <tr style=\"text-align: right;\">\n",
       "      <th></th>\n",
       "      <th>Categorie</th>\n",
       "      <th>Article</th>\n",
       "      <th>Article_mod</th>\n",
       "      <th>Categorie_Codes</th>\n",
       "    </tr>\n",
       "  </thead>\n",
       "  <tbody>\n",
       "    <tr>\n",
       "      <th>0</th>\n",
       "      <td>astro-ph</td>\n",
       "      <td>The energy released in a solar flare is part...</td>\n",
       "      <td>energy release   solar flare  partition  th...</td>\n",
       "      <td>astro-ph</td>\n",
       "    </tr>\n",
       "    <tr>\n",
       "      <th>1</th>\n",
       "      <td>hep-ph</td>\n",
       "      <td>In light of current atmospheric neutrino osc...</td>\n",
       "      <td>light  current atmospheric neutrino oscilla...</td>\n",
       "      <td>hep-ph</td>\n",
       "    </tr>\n",
       "    <tr>\n",
       "      <th>2</th>\n",
       "      <td>cs.LG</td>\n",
       "      <td>We consider the following basic learning tas...</td>\n",
       "      <td>consider  follow basic learn task give inde...</td>\n",
       "      <td>cs.LG</td>\n",
       "    </tr>\n",
       "    <tr>\n",
       "      <th>3</th>\n",
       "      <td>math.CO</td>\n",
       "      <td>In this paper, we characterise the family of...</td>\n",
       "      <td>paper  characterise  family  finite arc-tr...</td>\n",
       "      <td>math.CO</td>\n",
       "    </tr>\n",
       "    <tr>\n",
       "      <th>4</th>\n",
       "      <td>cond-mat.mes-hall</td>\n",
       "      <td>The control of condensed matter systems out ...</td>\n",
       "      <td>control  condense matter systems   equilibr...</td>\n",
       "      <td>cond-mat.mes-hall</td>\n",
       "    </tr>\n",
       "  </tbody>\n",
       "</table>\n",
       "</div>"
      ],
      "text/plain": [
       "           Categorie                                            Article  \\\n",
       "0           astro-ph    The energy released in a solar flare is part...   \n",
       "1             hep-ph    In light of current atmospheric neutrino osc...   \n",
       "2              cs.LG    We consider the following basic learning tas...   \n",
       "3            math.CO    In this paper, we characterise the family of...   \n",
       "4  cond-mat.mes-hall    The control of condensed matter systems out ...   \n",
       "\n",
       "                                         Article_mod    Categorie_Codes  \n",
       "0     energy release   solar flare  partition  th...           astro-ph  \n",
       "1     light  current atmospheric neutrino oscilla...             hep-ph  \n",
       "2     consider  follow basic learn task give inde...              cs.LG  \n",
       "3      paper  characterise  family  finite arc-tr...            math.CO  \n",
       "4     control  condense matter systems   equilibr...  cond-mat.mes-hall  "
      ]
     },
     "execution_count": 18,
     "metadata": {},
     "output_type": "execute_result"
    }
   ],
   "source": [
    "list_columns = [\"Categorie\", \"Article\", \"Article_mod\"]\n",
    "data = data[list_columns]\n",
    "np.unique(data.Categorie)\n",
    "categorie_codes = {\n",
    "    'astro-ph': 0,\n",
    "    'astro-ph.CO': 1,\n",
    "    'astro-ph.GA': 2,\n",
    "    'astro-ph.SR': 3,\n",
    "    'cond-mat.mes-hall': 4,\n",
    "    'cond-mat.mtrl-sci': 5,\n",
    "    'cs.LG': 6,\n",
    "    'gr-qc': 7,\n",
    "    'hep-ph' : 8,\n",
    "    'hep-th' : 9,\n",
    "    'math.AP' : 10,\n",
    "    'math.CO' : 11,\n",
    "    'physics.optics' : 12,\n",
    "    'quant-ph' : 13,\n",
    "    'stat.ML' : 14\n",
    "}\n",
    "data['Categorie_Codes'] = data['Categorie']\n",
    "data = data.replace({'Categorie_Code':categorie_codes})\n",
    "data.head()"
   ]
  },
  {
   "cell_type": "code",
   "execution_count": 23,
   "metadata": {},
   "outputs": [],
   "source": [
    "train_x, test_x, train_y, test_y = train_test_split(data['Article_mod'], \n",
    "                                                   data['Categorie_Codes'],\n",
    "                                                   test_size=0.2,\n",
    "                                                   random_state=11)  \n",
    "#TFIDF\n",
    "ngram_range = (1,2)\n",
    "min_df = 10\n",
    "max_df = 1.\n",
    "max_features = 3000\n",
    "\n",
    "tfidf = TfidfVectorizer(encoding='utf-8',\n",
    "                        ngram_range=(1,2),\n",
    "                        stop_words=None,\n",
    "                        lowercase=False,\n",
    "                        max_df=1.,\n",
    "                        min_df=10,\n",
    "                        max_features=3000, ##à jouer avec\n",
    "                        norm='l2',\n",
    "                        sublinear_tf=True)\n",
    "                        \n",
    "train_x = tfidf.fit_transform(train_x).toarray()\n",
    "test_x = tfidf.transform(test_x).toarray()\n"
   ]
  },
  {
   "cell_type": "code",
   "execution_count": null,
   "metadata": {},
   "outputs": [],
   "source": [
    "from sklearn import svm\n",
    "np.random.seed(42)\n",
    "\n",
    "SVM = svm.SVC(kernel='linear')\n",
    "SVM.fit(train_x,train_y)\n",
    "predictions_SVM = SVM.predict(test_x)\n",
    "print(\"SVM Accuracy Score (Validation) -> \",accuracy_score(predictions_SVM, test_y)*100)\n",
    "predictions_SVM = SVM.predict(train_x)\n",
    "print(\"SVM Accuracy Score (Train) -> \",accuracy_score(predictions_SVM, train_y)*100)\n"
   ]
  },
  {
   "cell_type": "code",
   "execution_count": null,
   "metadata": {},
   "outputs": [],
   "source": []
  }
 ],
 "metadata": {
  "kernelspec": {
   "display_name": "Python 3",
   "language": "python",
   "name": "python3"
  },
  "language_info": {
   "codemirror_mode": {
    "name": "ipython",
    "version": 3
   },
   "file_extension": ".py",
   "mimetype": "text/x-python",
   "name": "python",
   "nbconvert_exporter": "python",
   "pygments_lexer": "ipython3",
   "version": "3.7.9"
  }
 },
 "nbformat": 4,
 "nbformat_minor": 4
}
